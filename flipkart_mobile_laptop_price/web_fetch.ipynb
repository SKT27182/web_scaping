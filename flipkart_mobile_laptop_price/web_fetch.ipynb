{
 "cells": [
  {
   "cell_type": "code",
   "execution_count": 2,
   "metadata": {},
   "outputs": [],
   "source": [
    "import bs4\n",
    "import requests\n",
    "import pandas as pd"
   ]
  },
  {
   "cell_type": "code",
   "execution_count": 3,
   "metadata": {},
   "outputs": [],
   "source": [
    "base_url = 'https://www.flipkart.com/search?q={search}&otracker=search&otracker1=search&marketplace=FLIPKART&as-show=on&as=off&page={page_no}'"
   ]
  },
  {
   "cell_type": "code",
   "execution_count": 4,
   "metadata": {},
   "outputs": [],
   "source": [
    "search = 'laptop'\n",
    "page_no = 1"
   ]
  },
  {
   "cell_type": "code",
   "execution_count": 5,
   "metadata": {},
   "outputs": [],
   "source": [
    "request = requests.get(base_url.format(search=search, page_no=page_no))"
   ]
  },
  {
   "cell_type": "code",
   "execution_count": 6,
   "metadata": {},
   "outputs": [],
   "source": [
    "soup = bs4.BeautifulSoup(request.text,'lxml')"
   ]
  },
  {
   "cell_type": "code",
   "execution_count": 8,
   "metadata": {},
   "outputs": [],
   "source": [
    "products = soup.select('._3pLy-c')  # selecting the products in one page a list"
   ]
  },
  {
   "cell_type": "code",
   "execution_count": 9,
   "metadata": {},
   "outputs": [
    {
     "data": {
      "text/plain": [
       "24"
      ]
     },
     "execution_count": 9,
     "metadata": {},
     "output_type": "execute_result"
    }
   ],
   "source": [
    "len(products)"
   ]
  },
  {
   "cell_type": "code",
   "execution_count": 10,
   "metadata": {},
   "outputs": [
    {
     "name": "stdout",
     "output_type": "stream",
     "text": [
      "Lenovo IdeaPad Gaming Core i5 11th Gen - (8 GB/512 GB SSD/Windows 11 Home/4 GB Graphics/NVIDIA GeForce... ₹50,990\n",
      "Lenovo Legion 5 Pro Core i7 11th Gen - (16 GB/1 TB SSD/Windows 11 Home/6 GB Graphics/NVIDIA GeForce RT... ₹1,54,990\n",
      "ASUS VivoBook 15 (2022) Core i3 10th Gen - (8 GB/512 GB SSD/Windows 11 Home) X515JA-BQ322WS Thin and L... ₹34,990\n",
      "HP Core i3 11th Gen - (8 GB/256 GB SSD/Windows 11 Home) 14s- dy2506TU Thin and Light Laptop ₹35,490\n",
      "Lenovo IdeaPad 3 Core i3 11th Gen - (8 GB/512 GB SSD/Windows 11 Home) 82H801L7IN | 82H802FJIN | 82H802... ₹36,990\n",
      "HP Core i3 11th Gen - (8 GB/512 GB SSD/Windows 10 Home) 14s-dq2606tu Thin and Light Laptop ₹40,990\n",
      "Lenovo IdeaPad 3 Celeron Dual Core 4th Gen - (4 GB/256 GB SSD/Windows 11 Home) 14IGL05 Thin and Light ... ₹24,990\n",
      "Lenovo IdeaPad Core i3 11th Gen - (8 GB/512 GB SSD/Windows 11 Home) 81X800J3IN | 81X800LGIN Thin and L... ₹37,990\n",
      "RedmiBook Pro Core i5 11th Gen - (8 GB/512 GB SSD/Windows 10 Home) Thin and Light Laptop ₹42,999\n",
      "ASUS VivoBook 15 (2022) Core i3 11th Gen - (8 GB/1 TB HDD/256 GB SSD/Windows 11 Home) X515EA-EJ332WS T... ₹36,990\n",
      "ASUS VivoBook 15 (2021) Core i5 10th Gen - (8 GB/512 GB SSD/Windows 11 Home) X515JA-BQ521WS Thin and L... ₹41,990\n",
      "DELL Inspiron Ryzen 3 Dual Core 3250U - (8 GB/256 GB SSD/Windows 11 Home) INSPIRON 3515 Thin and Light... ₹31,990\n",
      "Lenovo Core i3 10th Gen - (8 GB/512 GB SSD/Windows 11 Home) 15IML05 Thin and Light Laptop ₹34,490\n",
      "Lenovo IdeaPad 3 Core i3 11th Gen - (8 GB/256 GB SSD/Windows 11 Home) 14ITL05 Thin and Light Laptop ₹32,990\n",
      "HP Core i3 11th Gen - (8 GB/512 GB SSD/Windows 11 Home) 15s-FR2508TU Laptop ₹39,666\n",
      "HP Ryzen 3 Quad Core 5300U - (8 GB/512 GB SSD/Windows 11 Home) 15s-eq2143au Thin and Light Laptop ₹36,490\n",
      "Lenovo IdeaPad 3 Ryzen 5 Hexa Core 5500U - (8 GB/512 GB SSD/Windows 11 Home) 15ALC6 Thin and Light Lap... ₹46,049\n",
      "ASUS Ryzen 3 Dual Core 3250U 3rd Gen - (8 GB/256 GB SSD/Windows 10 Home) M515DA-BQ322TS Thin and Light... ₹29,990\n",
      "acer Aspire 7 Core i5 10th Gen - (8 GB/512 GB SSD/Windows 10 Home/4 GB Graphics/NVIDIA GeForce GTX 165... ₹49,990\n",
      "Lenovo Legion 5 Core i7 11th Gen - (16 GB/512 GB SSD/Windows 10 Home/4 GB Graphics/NVIDIA GeForce RTX ... ₹1,33,999\n",
      "HP Notebook PC Core i3 11th Gen - (8 GB/1 TB HDD/Windows 10) G8 240 Thin and Light Laptop ₹28,999\n",
      "Lenovo IdeaPad 3 Core i5 11th Gen - (8 GB/512 GB SSD/Windows 10 Home) 15ITL6 Thin and Light Laptop ₹47,990\n",
      "Lenovo Ideapad Slim 5i Core i5 11th Gen - (16 GB/512 GB SSD/Windows 10 Home) 15 ITL 05 Thin and Light ... ₹58,990\n",
      "DELL Vostro Ryzen 5 Hexa Core 5500U - (8 GB/512 GB SSD/Windows 11 Home) Vostro 5415 Thin and Light Lap... ₹55,790\n"
     ]
    }
   ],
   "source": [
    "for prod_num in range(len(products)):\n",
    "    stars = float(products[prod_num].select('.col-7-12')[0].select('.gUuXy-')[0].select('._1lRcqv')[0].select('._3LWZlK')[0].getText())\n",
    "    if stars > 3:\n",
    "        prod_name = products[prod_num].select('.col-7-12')[0].select('._4rR01T')[0].getText()\n",
    "        prod_price = products[prod_num].select('.col-5-12')[0].select('._3tbKJL')[0].select('._25b18c')[0].select('._30jeq3')[0].getText()\n",
    "        print(prod_name,prod_price)"
   ]
  },
  {
   "cell_type": "code",
   "execution_count": 14,
   "metadata": {},
   "outputs": [
    {
     "ename": "ModuleNotFoundError",
     "evalue": "No module named 'my_codes'",
     "output_type": "error",
     "traceback": [
      "\u001b[0;31m---------------------------------------------------------------------------\u001b[0m",
      "\u001b[0;31mModuleNotFoundError\u001b[0m                       Traceback (most recent call last)",
      "\u001b[1;32mUntitled-1.ipynb Cell 9\u001b[0m in \u001b[0;36m<cell line: 1>\u001b[0;34m()\u001b[0m\n\u001b[0;32m----> <a href='vscode-notebook-cell:Untitled-1.ipynb?jupyter-notebook#ch0000023untitled?line=0'>1</a>\u001b[0m \u001b[39mfrom\u001b[39;00m \u001b[39mmy_codes\u001b[39;00m\u001b[39m.\u001b[39;00m\u001b[39mweb_scrapping\u001b[39;00m \u001b[39mimport\u001b[39;00m flipkart\n",
      "\u001b[0;31mModuleNotFoundError\u001b[0m: No module named 'my_codes'"
     ]
    }
   ],
   "source": [
    "from my_codes.web_scrapping import flipkart"
   ]
  },
  {
   "cell_type": "code",
   "execution_count": null,
   "metadata": {},
   "outputs": [],
   "source": []
  }
 ],
 "metadata": {
  "kernelspec": {
   "display_name": "Python 3.10.4 ('mlearning')",
   "language": "python",
   "name": "python3"
  },
  "language_info": {
   "codemirror_mode": {
    "name": "ipython",
    "version": 3
   },
   "file_extension": ".py",
   "mimetype": "text/x-python",
   "name": "python",
   "nbconvert_exporter": "python",
   "pygments_lexer": "ipython3",
   "version": "3.10.4"
  },
  "orig_nbformat": 4,
  "vscode": {
   "interpreter": {
    "hash": "1eb649f6f8cececb32e27a7c74ff0c8a2304f0589778cec0736ca47bbe35202a"
   }
  }
 },
 "nbformat": 4,
 "nbformat_minor": 2
}
